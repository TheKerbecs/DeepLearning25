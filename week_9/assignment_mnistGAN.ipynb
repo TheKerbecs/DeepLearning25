{
  "cells": [
    {
      "cell_type": "markdown",
      "metadata": {
        "id": "9JCiZj8OVZOA",
        "papermill": {
          "duration": 0.010897,
          "end_time": "2020-08-17T09:55:39.401285",
          "exception": false,
          "start_time": "2020-08-17T09:55:39.390388",
          "status": "completed"
        },
        "tags": []
      },
      "source": [
        "# Asignemnt: MNIST GAN\n",
        "## Load the Data\n",
        "\n",
        "We begin by downloading and importing the data as a PyTorch dataset using the `MNIST` helper class from `torchvision.datasets`."
      ]
    },
    {
      "cell_type": "code",
      "execution_count": 1,
      "metadata": {
        "execution": {
          "iopub.execute_input": "2020-08-17T09:55:39.430976Z",
          "iopub.status.busy": "2020-08-17T09:55:39.430373Z",
          "iopub.status.idle": "2020-08-17T09:55:42.664332Z",
          "shell.execute_reply": "2020-08-17T09:55:42.665107Z"
        },
        "id": "UyBhQNYFVZOB",
        "papermill": {
          "duration": 3.252756,
          "end_time": "2020-08-17T09:55:42.665363",
          "exception": false,
          "start_time": "2020-08-17T09:55:39.412607",
          "status": "completed"
        },
        "tags": []
      },
      "outputs": [],
      "source": [
        "import torch\n",
        "import torchvision\n",
        "from torchvision.transforms import ToTensor, Normalize, Compose\n",
        "from torchvision.datasets import MNIST\n",
        "\n",
        "mnist = MNIST(root='data',\n",
        "              train=True,\n",
        "              download=True,\n",
        "              transform=Compose([ToTensor(), Normalize(mean=(0.5,), std=(0.5,))]))"
      ]
    },
    {
      "cell_type": "markdown",
      "metadata": {
        "id": "8KZFYl-KVZOD",
        "papermill": {
          "duration": 0.012072,
          "end_time": "2020-08-17T09:55:42.690789",
          "exception": false,
          "start_time": "2020-08-17T09:55:42.678717",
          "status": "completed"
        },
        "tags": []
      },
      "source": [
        "Note that we are are transforming the pixel values from the range `[0, 1]` to the range `[-1, 1]`. Makes generation easier..."
      ]
    },
    {
      "cell_type": "code",
      "execution_count": 2,
      "metadata": {
        "colab": {
          "base_uri": "https://localhost:8080/"
        },
        "execution": {
          "iopub.execute_input": "2020-08-17T09:55:42.725122Z",
          "iopub.status.busy": "2020-08-17T09:55:42.724389Z",
          "iopub.status.idle": "2020-08-17T09:55:42.788396Z",
          "shell.execute_reply": "2020-08-17T09:55:42.782500Z"
        },
        "id": "ZFBOkKZkVZOD",
        "outputId": "034b3557-24e1-4231-abcb-32767849cc06",
        "papermill": {
          "duration": 0.085619,
          "end_time": "2020-08-17T09:55:42.788514",
          "exception": false,
          "start_time": "2020-08-17T09:55:42.702895",
          "status": "completed"
        },
        "tags": []
      },
      "outputs": [
        {
          "output_type": "stream",
          "name": "stdout",
          "text": [
            "Label:  5\n",
            "tensor([[[-0.9922,  0.2078,  0.9843, -0.2941, -1.0000],\n",
            "         [-1.0000,  0.0902,  0.9843,  0.4902, -0.9843],\n",
            "         [-1.0000, -0.9137,  0.4902,  0.9843, -0.4510],\n",
            "         [-1.0000, -1.0000, -0.7255,  0.8902,  0.7647],\n",
            "         [-1.0000, -1.0000, -1.0000, -0.3647,  0.8824]]])\n"
          ]
        },
        {
          "output_type": "execute_result",
          "data": {
            "text/plain": [
              "(tensor(-1.), tensor(1.))"
            ]
          },
          "metadata": {},
          "execution_count": 2
        }
      ],
      "source": [
        "img, label = mnist[0]\n",
        "print('Label: ', label)\n",
        "print(img[:,10:15,10:15])\n",
        "torch.min(img), torch.max(img)"
      ]
    },
    {
      "cell_type": "markdown",
      "metadata": {
        "id": "3xOZQHezVZOE",
        "papermill": {
          "duration": 0.013308,
          "end_time": "2020-08-17T09:55:42.814142",
          "exception": false,
          "start_time": "2020-08-17T09:55:42.800834",
          "status": "completed"
        },
        "tags": []
      },
      "source": [
        "As expected, the pixel values range from -1 to 1. Let's define a helper to denormalize and view the images. This function will also be useful for viewing the generated images."
      ]
    },
    {
      "cell_type": "code",
      "execution_count": 3,
      "metadata": {
        "execution": {
          "iopub.execute_input": "2020-08-17T09:55:42.849271Z",
          "iopub.status.busy": "2020-08-17T09:55:42.848521Z",
          "iopub.status.idle": "2020-08-17T09:55:42.851013Z",
          "shell.execute_reply": "2020-08-17T09:55:42.851527Z"
        },
        "id": "GiM08EQuVZOE",
        "papermill": {
          "duration": 0.019789,
          "end_time": "2020-08-17T09:55:42.851649",
          "exception": false,
          "start_time": "2020-08-17T09:55:42.831860",
          "status": "completed"
        },
        "tags": []
      },
      "outputs": [],
      "source": [
        "def denorm(x):\n",
        "    out = (x + 1) / 2\n",
        "    return out.clamp(0, 1)"
      ]
    },
    {
      "cell_type": "code",
      "execution_count": 4,
      "metadata": {
        "colab": {
          "base_uri": "https://localhost:8080/",
          "height": 448
        },
        "execution": {
          "iopub.execute_input": "2020-08-17T09:55:42.883860Z",
          "iopub.status.busy": "2020-08-17T09:55:42.882727Z",
          "iopub.status.idle": "2020-08-17T09:55:43.083285Z",
          "shell.execute_reply": "2020-08-17T09:55:43.083826Z"
        },
        "id": "q8z7O5ZLVZOF",
        "outputId": "34a5157a-94fd-4ec9-a596-dc68f45b3f0d",
        "papermill": {
          "duration": 0.220307,
          "end_time": "2020-08-17T09:55:43.083967",
          "exception": false,
          "start_time": "2020-08-17T09:55:42.863660",
          "status": "completed"
        },
        "tags": []
      },
      "outputs": [
        {
          "output_type": "stream",
          "name": "stdout",
          "text": [
            "Label: 5\n"
          ]
        },
        {
          "output_type": "display_data",
          "data": {
            "text/plain": [
              "<Figure size 640x480 with 1 Axes>"
            ],
            "image/png": "[encoded data removed]"
          },
          "metadata": {}
        }
      ],
      "source": [
        "import matplotlib.pyplot as plt\n",
        "%matplotlib inline\n",
        "\n",
        "img_norm = denorm(img)\n",
        "plt.imshow(img_norm[0], cmap='gray')\n",
        "print('Label:', label)"
      ]
    },
    {
      "cell_type": "markdown",
      "metadata": {
        "id": "YpT-vul1VZOF",
        "papermill": {
          "duration": 0.013492,
          "end_time": "2020-08-17T09:55:43.111291",
          "exception": false,
          "start_time": "2020-08-17T09:55:43.097799",
          "status": "completed"
        },
        "tags": []
      },
      "source": [
        "Finally, let's create a dataloader to load the images in batches."
      ]
    },
    {
      "cell_type": "code",
      "execution_count": 5,
      "metadata": {
        "execution": {
          "iopub.execute_input": "2020-08-17T09:55:43.143065Z",
          "iopub.status.busy": "2020-08-17T09:55:43.142277Z",
          "iopub.status.idle": "2020-08-17T09:55:43.145197Z",
          "shell.execute_reply": "2020-08-17T09:55:43.145792Z"
        },
        "id": "LCe0U6iaVZOG",
        "papermill": {
          "duration": 0.021138,
          "end_time": "2020-08-17T09:55:43.145917",
          "exception": false,
          "start_time": "2020-08-17T09:55:43.124779",
          "status": "completed"
        },
        "tags": []
      },
      "outputs": [],
      "source": [
        "from torch.utils.data import DataLoader\n",
        "\n",
        "batch_size = 100\n",
        "data_loader = DataLoader(mnist, batch_size, shuffle=True)"
      ]
    },
    {
      "cell_type": "code",
      "execution_count": 6,
      "metadata": {
        "colab": {
          "base_uri": "https://localhost:8080/",
          "height": 555
        },
        "execution": {
          "iopub.execute_input": "2020-08-17T09:55:43.178132Z",
          "iopub.status.busy": "2020-08-17T09:55:43.177398Z",
          "iopub.status.idle": "2020-08-17T09:55:43.350810Z",
          "shell.execute_reply": "2020-08-17T09:55:43.350272Z"
        },
        "id": "hpsIHp7ZVZOG",
        "outputId": "0d42e771-5b91-46dc-f3af-588c09dcca9c",
        "papermill": {
          "duration": 0.192473,
          "end_time": "2020-08-17T09:55:43.350929",
          "exception": false,
          "start_time": "2020-08-17T09:55:43.158456",
          "status": "completed"
        },
        "tags": []
      },
      "outputs": [
        {
          "output_type": "stream",
          "name": "stdout",
          "text": [
            "first batch\n",
            "torch.Size([100, 1, 28, 28])\n",
            "tensor([2, 8, 4, 0, 9, 4, 7, 1, 8, 1, 4, 0, 9, 4, 2, 4, 1, 8, 4, 6, 2, 4, 0, 8,\n",
            "        3, 5, 7, 0, 8, 2, 3, 3, 7, 5, 4, 6, 5, 3, 5, 7, 4, 3, 5, 2, 5, 3, 6, 9,\n",
            "        5, 3, 3, 5, 2, 5, 3, 0, 5, 0, 5, 0, 0, 4, 7, 9, 4, 2, 5, 3, 4, 7, 1, 3,\n",
            "        6, 4, 5, 6, 5, 0, 0, 3, 0, 1, 2, 3, 5, 9, 3, 9, 8, 9, 1, 4, 3, 8, 5, 6,\n",
            "        8, 9, 0, 1])\n"
          ]
        },
        {
          "output_type": "display_data",
          "data": {
            "text/plain": [
              "<Figure size 640x480 with 1 Axes>"
            ],
            "image/png": "[encoded data removed]"
          },
          "metadata": {}
        }
      ],
      "source": [
        "for img_batch, label_batch in data_loader:\n",
        "    print('first batch')\n",
        "    print(img_batch.shape)\n",
        "    plt.imshow(img_batch[0][0], cmap='gray')\n",
        "    print(label_batch)\n",
        "    break"
      ]
    },
    {
      "cell_type": "code",
      "execution_count": 7,
      "metadata": {
        "execution": {
          "iopub.execute_input": "2020-08-17T09:55:43.740949Z",
          "iopub.status.busy": "2020-08-17T09:55:43.739949Z",
          "iopub.status.idle": "2020-08-17T09:55:43.742791Z",
          "shell.execute_reply": "2020-08-17T09:55:43.742276Z"
        },
        "id": "gGVg8kZ8VZOH",
        "papermill": {
          "duration": 0.352355,
          "end_time": "2020-08-17T09:55:43.742903",
          "exception": false,
          "start_time": "2020-08-17T09:55:43.390548",
          "status": "completed"
        },
        "tags": []
      },
      "outputs": [],
      "source": [
        "# Device configuration\n",
        "device = torch.device('cuda' if torch.cuda.is_available() else 'cpu')"
      ]
    },
    {
      "cell_type": "code",
      "execution_count": 8,
      "metadata": {
        "colab": {
          "base_uri": "https://localhost:8080/"
        },
        "execution": {
          "iopub.execute_input": "2020-08-17T09:55:43.774672Z",
          "iopub.status.busy": "2020-08-17T09:55:43.773773Z",
          "iopub.status.idle": "2020-08-17T09:55:43.777927Z",
          "shell.execute_reply": "2020-08-17T09:55:43.777403Z"
        },
        "id": "eerZtGkIVZOH",
        "outputId": "912f7cf0-b3ed-4c22-8a4b-7430e3e303eb",
        "papermill": {
          "duration": 0.021476,
          "end_time": "2020-08-17T09:55:43.778025",
          "exception": false,
          "start_time": "2020-08-17T09:55:43.756549",
          "status": "completed"
        },
        "tags": []
      },
      "outputs": [
        {
          "output_type": "execute_result",
          "data": {
            "text/plain": [
              "device(type='cuda')"
            ]
          },
          "metadata": {},
          "execution_count": 8
        }
      ],
      "source": [
        "device"
      ]
    },
    {
      "cell_type": "markdown",
      "metadata": {
        "id": "ucDnjznxVZOI",
        "papermill": {
          "duration": 0.012711,
          "end_time": "2020-08-17T09:55:43.803739",
          "exception": false,
          "start_time": "2020-08-17T09:55:43.791028",
          "status": "completed"
        },
        "tags": []
      },
      "source": [
        "## 1. Discriminator Network\n",
        "\n",
        "The discriminator takes an image as input, and tries to classify it as \"real\" or \"generated\". In this sense, it's like any other neural network. While we can use a CNN for the discriminator, we'll use a simple feedforward network with 3 linear layers to keep things since. We'll treat each 28x28 image as a vector of size 784."
      ]
    },
    {
      "cell_type": "code",
      "execution_count": 9,
      "metadata": {
        "execution": {
          "iopub.execute_input": "2020-08-17T09:55:43.835108Z",
          "iopub.status.busy": "2020-08-17T09:55:43.834087Z",
          "iopub.status.idle": "2020-08-17T09:55:43.837279Z",
          "shell.execute_reply": "2020-08-17T09:55:43.836767Z"
        },
        "id": "jvY1GM2YVZOI",
        "papermill": {
          "duration": 0.020292,
          "end_time": "2020-08-17T09:55:43.837398",
          "exception": false,
          "start_time": "2020-08-17T09:55:43.817106",
          "status": "completed"
        },
        "tags": []
      },
      "outputs": [],
      "source": [
        "image_size = 784\n",
        "hidden_size = 256"
      ]
    },
    {
      "cell_type": "code",
      "execution_count": 10,
      "metadata": {
        "execution": {
          "iopub.execute_input": "2020-08-17T09:55:43.870357Z",
          "iopub.status.busy": "2020-08-17T09:55:43.869636Z",
          "iopub.status.idle": "2020-08-17T09:55:43.876096Z",
          "shell.execute_reply": "2020-08-17T09:55:43.875605Z"
        },
        "id": "3JsKEAb9VZOI",
        "papermill": {
          "duration": 0.025096,
          "end_time": "2020-08-17T09:55:43.876208",
          "exception": false,
          "start_time": "2020-08-17T09:55:43.851112",
          "status": "completed"
        },
        "tags": []
      },
      "outputs": [],
      "source": [
        "import torch.nn as nn\n",
        "\n",
        "D = nn.Sequential(\n",
        "    nn.Linear(image_size, hidden_size),\n",
        "    nn.LeakyReLU(0.2),\n",
        "    nn.Linear(hidden_size, hidden_size),\n",
        "    nn.LeakyReLU(0.2),\n",
        "    nn.Linear(hidden_size, 1),\n",
        "    nn.Sigmoid()\n",
        ")"
      ]
    },
    {
      "cell_type": "code",
      "execution_count": 11,
      "metadata": {
        "execution": {
          "iopub.execute_input": "2020-08-17T09:55:43.938968Z",
          "iopub.status.busy": "2020-08-17T09:55:43.938202Z",
          "iopub.status.idle": "2020-08-17T09:55:50.942528Z",
          "shell.execute_reply": "2020-08-17T09:55:50.943042Z"
        },
        "id": "K1fmWLNnVZOJ",
        "papermill": {
          "duration": 7.026268,
          "end_time": "2020-08-17T09:55:50.943194",
          "exception": false,
          "start_time": "2020-08-17T09:55:43.916926",
          "status": "completed"
        },
        "tags": []
      },
      "outputs": [],
      "source": [
        "D.to(device);"
      ]
    },
    {
      "cell_type": "markdown",
      "metadata": {
        "id": "GaXQ0sDKVZOJ",
        "papermill": {
          "duration": 0.013316,
          "end_time": "2020-08-17T09:55:50.970787",
          "exception": false,
          "start_time": "2020-08-17T09:55:50.957471",
          "status": "completed"
        },
        "tags": []
      },
      "source": [
        "## 2. Build Generator Network\n",
        "\n",
        "The input to the generator is typically a vector or a matrix which is used as a seed for generating an image. Once again, to keep things simple, we'll use a feedfoward neural network with 3 layers, and the output will be a vector of size 784, which can be transformed to a 28x28 px image."
      ]
    },
    {
      "cell_type": "markdown",
      "metadata": {
        "id": "y9cY38gMVZOK",
        "papermill": {
          "duration": 0.013729,
          "end_time": "2020-08-17T09:55:51.070415",
          "exception": false,
          "start_time": "2020-08-17T09:55:51.056686",
          "status": "completed"
        },
        "tags": []
      },
      "source": [
        "We use the TanH activation function for the output layer of the generator.\n",
        "\n",
        "<img src=\"https://nic.schraudolph.org/teach/NNcourse/figs/tanh.gif\" width=\"420\" >\n",
        "\n",
        "> \"The ReLU activation (Nair & Hinton, 2010) is used in the generator with the exception of the output layer which uses the Tanh function. We observed that using a bounded activation allowed the model to learn more quickly to saturate and cover the color space of the training distribution. Within the discriminator we found the leaky rectified activation (Maas et al., 2013) (Xu et al., 2015) to work well, especially for higher resolution modeling.\" - [Source](https://stackoverflow.com/questions/41489907/generative-adversarial-networks-tanh)\n",
        "\n",
        "\n",
        "Note that since the outputs of the TanH activation lie in the range `[-1,1]`, we have applied the same transformation to the images in the training dataset. Let's generate an output vector using the generator and view it as an image by transforming and denormalizing the output."
      ]
    },
    {
      "cell_type": "code",
      "execution_count": 12,
      "metadata": {
        "execution": {
          "iopub.execute_input": "2020-08-17T09:55:51.001873Z",
          "iopub.status.busy": "2020-08-17T09:55:51.001092Z",
          "iopub.status.idle": "2020-08-17T09:55:51.003649Z",
          "shell.execute_reply": "2020-08-17T09:55:51.004145Z"
        },
        "id": "yKyIpUuuVZOJ",
        "papermill": {
          "duration": 0.01996,
          "end_time": "2020-08-17T09:55:51.004261",
          "exception": false,
          "start_time": "2020-08-17T09:55:50.984301",
          "status": "completed"
        },
        "tags": []
      },
      "outputs": [],
      "source": [
        "latent_size = 64"
      ]
    },
    {
      "cell_type": "code",
      "execution_count": 13,
      "metadata": {
        "execution": {
          "iopub.execute_input": "2020-08-17T09:55:51.037163Z",
          "iopub.status.busy": "2020-08-17T09:55:51.036261Z",
          "iopub.status.idle": "2020-08-17T09:55:51.042579Z",
          "shell.execute_reply": "2020-08-17T09:55:51.042077Z"
        },
        "id": "KMPJ-D8wVZOK",
        "papermill": {
          "duration": 0.024698,
          "end_time": "2020-08-17T09:55:51.042678",
          "exception": false,
          "start_time": "2020-08-17T09:55:51.017980",
          "status": "completed"
        },
        "tags": []
      },
      "outputs": [],
      "source": [
        "G = nn.Sequential(\n",
        "    nn.Linear(latent_size, hidden_size),\n",
        "    nn.ReLU(),\n",
        "    nn.Linear(hidden_size, hidden_size),\n",
        "    nn.ReLU(),\n",
        "    nn.Linear(hidden_size, image_size),\n",
        "    nn.Tanh()\n",
        ")"
      ]
    },
    {
      "cell_type": "markdown",
      "metadata": {
        "id": "EEnpJkMfVZON",
        "papermill": {
          "duration": 0.014736,
          "end_time": "2020-08-17T09:55:51.840863",
          "exception": false,
          "start_time": "2020-08-17T09:55:51.826127",
          "status": "completed"
        },
        "tags": []
      },
      "source": [
        "## 3. Train the Model\n",
        "\n",
        "* train the model\n",
        "* save samples of generated images after each epoch -> use the ``denorm()`` function"
      ]
    },
    {
      "source": [
        "import os\n",
        "from IPython.display import Image\n",
        "import torch\n",
        "import torchvision\n",
        "import torch.nn as nn\n",
        "from torch.utils.data import DataLoader\n",
        "\n",
        "# Create a directory for saving generated images\n",
        "sample_dir = 'samples'\n",
        "if not os.path.exists(sample_dir):\n",
        "    os.makedirs(sample_dir)\n",
        "\n",
        "# Loss function and optimizers\n",
        "criterion = nn.BCELoss()\n",
        "d_optimizer = torch.optim.Adam(D.parameters(), lr=0.0002)\n",
        "g_optimizer = torch.optim.Adam(G.parameters(), lr=0.0002)\n",
        "\n",
        "def reset_grad():\n",
        "    d_optimizer.zero_grad()\n",
        "    g_optimizer.zero_grad()\n",
        "\n",
        "# Ensure models are on the correct device\n",
        "D.to(device)\n",
        "G.to(device)\n",
        "\n",
        "# Verify that G is on the correct device\n",
        "print(f\"Generator is on device: {next(G.parameters()).device}\")\n",
        "\n",
        "\n",
        "# Training loop\n",
        "num_epochs = 50\n",
        "total_step = len(data_loader)\n",
        "\n",
        "for epoch in range(num_epochs):\n",
        "    for i, (images, _) in enumerate(data_loader):\n",
        "        # Flatten images and move to device\n",
        "        images = images.reshape(-1, image_size).to(device)\n",
        "\n",
        "        # Create labels for real and fake images\n",
        "        real_labels = torch.ones(images.size(0), 1).to(device)\n",
        "        fake_labels = torch.zeros(images.size(0), 1).to(device)\n",
        "\n",
        "        # Compute loss with real images\n",
        "        outputs = D(images)\n",
        "        d_loss_real = criterion(outputs, real_labels)\n",
        "        real_score = outputs\n",
        "\n",
        "        # Compute loss with fake images\n",
        "        z = torch.randn(batch_size, latent_size).to(device)\n",
        "        fake_images = G(z)\n",
        "        outputs = D(fake_images.detach())\n",
        "        d_loss_fake = criterion(outputs, fake_labels)\n",
        "        fake_score = outputs\n",
        "\n",
        "        # Backpropagate and optimize\n",
        "        d_loss = d_loss_real + d_loss_fake\n",
        "        reset_grad()\n",
        "        d_loss.backward()\n",
        "        d_optimizer.step()\n",
        "\n",
        "\n",
        "\n",
        "        # Compute loss with fake images\n",
        "        z = torch.randn(batch_size, latent_size).to(device)\n",
        "        fake_images = G(z)\n",
        "        outputs = D(fake_images)\n",
        "        g_loss = criterion(outputs, real_labels)\n",
        "\n",
        "        # Backpropagate and optimize\n",
        "        reset_grad()\n",
        "        g_loss.backward()\n",
        "        g_optimizer.step()\n",
        "\n",
        "        # Print logs\n",
        "        if (i+1) % 600 == 0:\n",
        "            print('Epoch [{}/{}], Step [{}/{}], d_loss: {:.4f}, g_loss: {:.4f}, D(x): {:.2f}, D(G(z)): {:.2f}'\n",
        "                  .format(epoch+1, num_epochs, i+1, total_step, d_loss.item(), g_loss.item(),\n",
        "                          real_score.mean().item(), fake_score.mean().item()))\n",
        "\n",
        "    # Saving\n",
        "    with torch.no_grad():\n",
        "        z = torch.randn(batch_size, latent_size).to(device)\n",
        "        fake_images = G(z).reshape(-1, 1, 28, 28)\n",
        "        fake_images = denorm(fake_images)\n",
        "        torchvision.utils.save_image(fake_images, os.path.join(sample_dir, 'fake_images-{}.png'.format(epoch+1)))\n",
        "\n",
        "Image(os.path.join(sample_dir, 'fake_images-{}.png'.format(num_epochs)))"
      ],
      "cell_type": "code",
      "metadata": {
        "id": "Ly6qsDOO2gcF",
        "outputId": "cb900dcb-42f0-48b1-97eb-d9ae414baae8",
        "colab": {
          "base_uri": "https://localhost:8080/",
          "height": 1000
        }
      },
      "execution_count": 14,
      "outputs": [
        {
          "output_type": "stream",
          "name": "stdout",
          "text": [
            "Generator is on device: cuda:0\n",
            "Epoch [1/50], Step [600/600], d_loss: 0.0341, g_loss: 4.9605, D(x): 0.99, D(G(z)): 0.02\n",
            "Epoch [2/50], Step [600/600], d_loss: 0.8573, g_loss: 3.9072, D(x): 0.87, D(G(z)): 0.29\n",
            "Epoch [3/50], Step [600/600], d_loss: 1.2286, g_loss: 1.9229, D(x): 0.65, D(G(z)): 0.37\n",
            "Epoch [4/50], Step [600/600], d_loss: 0.1964, g_loss: 2.9510, D(x): 0.95, D(G(z)): 0.11\n",
            "Epoch [5/50], Step [600/600], d_loss: 0.5269, g_loss: 2.0846, D(x): 0.86, D(G(z)): 0.16\n",
            "Epoch [6/50], Step [600/600], d_loss: 0.2381, g_loss: 3.4516, D(x): 0.92, D(G(z)): 0.10\n",
            "Epoch [7/50], Step [600/600], d_loss: 0.5238, g_loss: 4.6089, D(x): 0.89, D(G(z)): 0.13\n",
            "Epoch [8/50], Step [600/600], d_loss: 0.5471, g_loss: 4.2645, D(x): 0.85, D(G(z)): 0.15\n",
            "Epoch [9/50], Step [600/600], d_loss: 0.2084, g_loss: 5.0373, D(x): 0.90, D(G(z)): 0.02\n",
            "Epoch [10/50], Step [600/600], d_loss: 0.1420, g_loss: 4.8902, D(x): 0.97, D(G(z)): 0.04\n",
            "Epoch [11/50], Step [600/600], d_loss: 0.2688, g_loss: 4.7082, D(x): 0.95, D(G(z)): 0.11\n",
            "Epoch [12/50], Step [600/600], d_loss: 0.2414, g_loss: 4.9978, D(x): 0.91, D(G(z)): 0.04\n",
            "Epoch [13/50], Step [600/600], d_loss: 0.2768, g_loss: 4.0017, D(x): 0.93, D(G(z)): 0.10\n",
            "Epoch [14/50], Step [600/600], d_loss: 0.4116, g_loss: 3.4998, D(x): 0.92, D(G(z)): 0.09\n",
            "Epoch [15/50], Step [600/600], d_loss: 0.3416, g_loss: 3.7733, D(x): 0.94, D(G(z)): 0.18\n",
            "Epoch [16/50], Step [600/600], d_loss: 0.1645, g_loss: 5.3374, D(x): 0.96, D(G(z)): 0.08\n",
            "Epoch [17/50], Step [600/600], d_loss: 0.1345, g_loss: 5.1873, D(x): 0.97, D(G(z)): 0.07\n",
            "Epoch [18/50], Step [600/600], d_loss: 0.1962, g_loss: 5.0850, D(x): 0.98, D(G(z)): 0.12\n",
            "Epoch [19/50], Step [600/600], d_loss: 0.2507, g_loss: 5.1259, D(x): 0.93, D(G(z)): 0.06\n",
            "Epoch [20/50], Step [600/600], d_loss: 0.2474, g_loss: 3.4240, D(x): 0.94, D(G(z)): 0.08\n",
            "Epoch [21/50], Step [600/600], d_loss: 0.2469, g_loss: 5.3686, D(x): 0.92, D(G(z)): 0.04\n",
            "Epoch [22/50], Step [600/600], d_loss: 0.2517, g_loss: 5.2644, D(x): 0.93, D(G(z)): 0.09\n",
            "Epoch [23/50], Step [600/600], d_loss: 0.3031, g_loss: 3.6453, D(x): 0.93, D(G(z)): 0.07\n",
            "Epoch [24/50], Step [600/600], d_loss: 0.3956, g_loss: 4.2973, D(x): 0.91, D(G(z)): 0.14\n",
            "Epoch [25/50], Step [600/600], d_loss: 0.2199, g_loss: 4.4380, D(x): 0.93, D(G(z)): 0.09\n",
            "Epoch [26/50], Step [600/600], d_loss: 0.2594, g_loss: 4.9903, D(x): 0.95, D(G(z)): 0.10\n",
            "Epoch [27/50], Step [600/600], d_loss: 0.3481, g_loss: 4.1659, D(x): 0.92, D(G(z)): 0.10\n",
            "Epoch [28/50], Step [600/600], d_loss: 0.3313, g_loss: 2.7018, D(x): 0.95, D(G(z)): 0.15\n",
            "Epoch [29/50], Step [600/600], d_loss: 0.5052, g_loss: 6.4169, D(x): 0.84, D(G(z)): 0.03\n",
            "Epoch [30/50], Step [600/600], d_loss: 0.4109, g_loss: 4.5959, D(x): 0.84, D(G(z)): 0.03\n",
            "Epoch [31/50], Step [600/600], d_loss: 0.2666, g_loss: 2.8134, D(x): 0.93, D(G(z)): 0.10\n",
            "Epoch [32/50], Step [600/600], d_loss: 0.3430, g_loss: 4.8190, D(x): 0.89, D(G(z)): 0.07\n",
            "Epoch [33/50], Step [600/600], d_loss: 0.5630, g_loss: 2.5733, D(x): 0.80, D(G(z)): 0.04\n",
            "Epoch [34/50], Step [600/600], d_loss: 0.6216, g_loss: 3.6422, D(x): 0.90, D(G(z)): 0.26\n",
            "Epoch [35/50], Step [600/600], d_loss: 0.3253, g_loss: 3.0544, D(x): 0.90, D(G(z)): 0.10\n",
            "Epoch [36/50], Step [600/600], d_loss: 0.4207, g_loss: 2.7414, D(x): 0.86, D(G(z)): 0.12\n",
            "Epoch [37/50], Step [600/600], d_loss: 0.5391, g_loss: 2.3145, D(x): 0.84, D(G(z)): 0.15\n",
            "Epoch [38/50], Step [600/600], d_loss: 0.5587, g_loss: 2.9013, D(x): 0.81, D(G(z)): 0.11\n",
            "Epoch [39/50], Step [600/600], d_loss: 0.4560, g_loss: 3.5769, D(x): 0.84, D(G(z)): 0.09\n",
            "Epoch [40/50], Step [600/600], d_loss: 0.3324, g_loss: 2.8378, D(x): 0.85, D(G(z)): 0.08\n",
            "Epoch [41/50], Step [600/600], d_loss: 0.4784, g_loss: 4.3302, D(x): 0.90, D(G(z)): 0.22\n",
            "Epoch [42/50], Step [600/600], d_loss: 0.4372, g_loss: 3.3072, D(x): 0.84, D(G(z)): 0.10\n",
            "Epoch [43/50], Step [600/600], d_loss: 0.7916, g_loss: 2.1556, D(x): 0.76, D(G(z)): 0.20\n",
            "Epoch [44/50], Step [600/600], d_loss: 0.4911, g_loss: 2.4746, D(x): 0.84, D(G(z)): 0.16\n",
            "Epoch [45/50], Step [600/600], d_loss: 0.3499, g_loss: 3.4029, D(x): 0.89, D(G(z)): 0.11\n",
            "Epoch [46/50], Step [600/600], d_loss: 0.5717, g_loss: 2.2924, D(x): 0.82, D(G(z)): 0.18\n",
            "Epoch [47/50], Step [600/600], d_loss: 0.5317, g_loss: 2.7584, D(x): 0.85, D(G(z)): 0.21\n",
            "Epoch [48/50], Step [600/600], d_loss: 0.4908, g_loss: 2.8325, D(x): 0.82, D(G(z)): 0.16\n",
            "Epoch [49/50], Step [600/600], d_loss: 0.7680, g_loss: 3.1557, D(x): 0.69, D(G(z)): 0.10\n",
            "Epoch [50/50], Step [600/600], d_loss: 0.5709, g_loss: 1.9753, D(x): 0.82, D(G(z)): 0.16\n"
          ]
        },
        {
          "output_type": "execute_result",
          "data": {
            "image/png": "[encoded data removed]",
            "text/plain": [
              "<IPython.core.display.Image object>"
            ]
          },
          "metadata": {},
          "execution_count": 14
        }
      ]
    }
  ],
  "metadata": {
    "accelerator": "GPU",
    "colab": {
      "name": "assignment_mnistGAN_solution.ipynb",
      "provenance": []
    },
    "kernelspec": {
      "display_name": "Python 3",
      "language": "python",
      "name": "python3"
    },
    "language_info": {
      "codemirror_mode": {
        "name": "ipython",
        "version": 3
      },
      "file_extension": ".py",
      "mimetype": "text/x-python",
      "name": "python",
      "nbconvert_exporter": "python",
      "pygments_lexer": "ipython3",
      "version": "3.7.6"
    },
    "papermill": {
      "duration": 3906.147471,
      "end_time": "2020-08-17T11:00:34.587734",
      "environment_variables": {},
      "exception": null,
      "input_path": "__notebook__.ipynb",
      "output_path": "__notebook__.ipynb",
      "parameters": {},
      "start_time": "2020-08-17T09:55:28.440263",
      "version": "2.1.0"
    }
  },
  "nbformat": 4,
  "nbformat_minor": 0
}